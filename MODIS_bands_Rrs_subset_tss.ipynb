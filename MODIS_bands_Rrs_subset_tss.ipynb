{
 "cells": [
  {
   "cell_type": "code",
   "execution_count": 4,
   "id": "d421d92f-a605-4497-9b61-57e74c30dcfb",
   "metadata": {},
   "outputs": [
    {
     "name": "stdout",
     "output_type": "stream",
     "text": [
      "Subset data saved to MODIS_rrs_tss.csv\n"
     ]
    }
   ],
   "source": [
    "import pandas as pd\n",
    "\n",
    "# Read the CSV file\n",
    "file_path = 'GLORIA_plus_lab_SAB_400nm_800nm_all_python.csv'  # Replace with your actual file path\n",
    "data = pd.read_csv(file_path)\n",
    "\n",
    "# Subset the data with the specified columns\n",
    "columns_to_subset = ['Rrs_412', 'Rrs_443', 'Rrs_488', 'Rrs_555', 'Rrs_667', 'Rrs_678', 'Rrs_748']\n",
    "MODIS_rrs_tss = data[columns_to_subset]\n",
    "# Save the subset of data as a new CSV file\n",
    "subset_file_path = 'MODIS_rrs_tss.csv'  # Specify the file name for the subset data\n",
    "MODIS_rrs_tss.to_csv(subset_file_path, index=False)\n",
    "\n",
    "print(f'Subset data saved to {subset_file_path}')\n"
   ]
  },
  {
   "cell_type": "code",
   "execution_count": 5,
   "id": "54a6a6e7-bf58-4ad8-bf7d-1e71d10ba509",
   "metadata": {},
   "outputs": [
    {
     "name": "stdout",
     "output_type": "stream",
     "text": [
      "GLORIA_plus_lab_SAB_400nm_800nm_all_python.csv\tRun_MDN_TSS.py\n",
      "MODIS_bands_Rrs_subset_tss\t\t\tSubset_4_MODIS_Rrs_tss.py\n",
      "MODIS_rrs_tss.csv\n"
     ]
    }
   ],
   "source": [
    "!ls\n"
   ]
  },
  {
   "cell_type": "code",
   "execution_count": 14,
   "id": "d79a17fc-efbe-4bcc-ae4d-c10b152a6fff",
   "metadata": {},
   "outputs": [],
   "source": [
    "import pandas as pd\n",
    "file_path = '/home/jovyan/TSS_ML/MODIS_rrs_tss.csv'  # Replace with your actual file path\n",
    "# data = pd.read_csv(file_path)\n",
    "Rrs = pd.read_csv(file_path)"
   ]
  },
  {
   "cell_type": "code",
   "execution_count": 15,
   "id": "cdcfa24a-8b90-45ce-97fb-96f9fe80a2a0",
   "metadata": {
    "scrolled": true
   },
   "outputs": [
    {
     "name": "stdout",
     "output_type": "stream",
     "text": [
      "/home/jovyan/TSS_ML\n"
     ]
    }
   ],
   "source": [
    "!pwd\n"
   ]
  },
  {
   "cell_type": "code",
   "execution_count": null,
   "id": "f792e848-0621-45a2-9617-27c6efcd236e",
   "metadata": {},
   "outputs": [],
   "source": []
  },
  {
   "cell_type": "code",
   "execution_count": 3,
   "id": "70186b33-54df-4e8f-b278-1560c90f8f97",
   "metadata": {},
   "outputs": [
    {
     "name": "stdout",
     "output_type": "stream",
     "text": [
      "GLORIA_plus_lab_SAB_400nm_800nm_all_python.csv\tRun_MDN_TSS.py\n",
      "MODIS_bands_Rrs_subset_tss.ipynb\t\tSOLID_MODIS_tss.csv\n",
      "MODIS_rrs_tss.csv\t\t\t\tSubset_4_MODIS_Rrs_tss.py\n"
     ]
    }
   ],
   "source": [
    "!ls\n"
   ]
  },
  {
   "cell_type": "code",
   "execution_count": null,
   "id": "1cfbffe6-cf06-4b59-8c73-968b5cf38fed",
   "metadata": {},
   "outputs": [],
   "source": []
  }
 ],
 "metadata": {
  "kernelspec": {
   "display_name": "Python 3 (ipykernel)",
   "language": "python",
   "name": "python3"
  },
  "language_info": {
   "codemirror_mode": {
    "name": "ipython",
    "version": 3
   },
   "file_extension": ".py",
   "mimetype": "text/x-python",
   "name": "python",
   "nbconvert_exporter": "python",
   "pygments_lexer": "ipython3",
   "version": "3.11.11"
  }
 },
 "nbformat": 4,
 "nbformat_minor": 5
}
