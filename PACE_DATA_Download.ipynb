{
 "cells": [
  {
   "cell_type": "code",
   "execution_count": 2,
   "id": "c8222f94-d3be-4ff1-a6e3-af241e7c727e",
   "metadata": {},
   "outputs": [
    {
     "name": "stdout",
     "output_type": "stream",
     "text": [
      "True\n"
     ]
    }
   ],
   "source": [
    "# !python -m pip install earthaccess\n",
    "\n",
    "from earthaccess import Auth, Store, DataCollections, DataGranules, open\n",
    "import earthaccess\n",
    "import pandas as pd\n",
    "\n",
    "auth = Auth()\n",
    "auth.login(strategy=\"netrc\")\n",
    "auth = earthaccess.login(persist=True)\n",
    "# are we authenticated?\n",
    "print(auth.authenticated)"
   ]
  },
  {
   "cell_type": "code",
   "execution_count": 3,
   "id": "eb7812c4-7823-4396-a906-7faf05fc57aa",
   "metadata": {},
   "outputs": [
    {
     "data": {
      "text/plain": [
       "<earthaccess.auth.Auth at 0x1059916a0>"
      ]
     },
     "execution_count": 3,
     "metadata": {},
     "output_type": "execute_result"
    }
   ],
   "source": [
    "earthaccess.login(strategy=\"netrc\")"
   ]
  },
  {
   "cell_type": "code",
   "execution_count": 13,
   "id": "eb9554a0-376d-4980-99e0-2ecac1995bda",
   "metadata": {},
   "outputs": [],
   "source": [
    "Query_collections = DataCollections()\n",
    "Query_granules = DataGranules()"
   ]
  },
  {
   "cell_type": "code",
   "execution_count": 14,
   "id": "7d964797-f5cf-45da-8a2f-3750499edcef",
   "metadata": {},
   "outputs": [
    {
     "name": "stdout",
     "output_type": "stream",
     "text": [
      "Collections found: 1 PACE OBDAAC Data Collection in 2025\n"
     ]
    }
   ],
   "source": [
    "# Use chain methods to customize our query # C3385049983-OB_CLOUD3 For NRTdata:  PACE_OCI_L2_AOP_NRT, C3385049977-OB_CLOUD\n",
    "# BGC NRT data: PACE_OCI_L2_BGC_NRT, C3385049989-OB_CLOUD; BGC data: PACE_OCI_L2_BGC, C3385050002-OB_CLOUD\n",
    "# Query_collections.short_name('PACE_OCI_L2_AOP').temporal(\"2025-04-28\",\"2025-04-30\")\n",
    "Query_collections.short_name('PACE_OCI_L2_AOP_NRT').temporal(\"2025-04-28\",\"2025-04-30\")\n",
    "print(f'Collections found: {Query_collections.hits()} PACE OBDAAC Data Collection in 2025')"
   ]
  },
  {
   "cell_type": "code",
   "execution_count": 6,
   "id": "065507dc-c908-49cd-92b3-94f0df7144f9",
   "metadata": {},
   "outputs": [
    {
     "name": "stdout",
     "output_type": "stream",
     "text": [
      "Collections found: 1 PACE OBDAAC Data Collection in 2025\n"
     ]
    }
   ],
   "source": []
  },
  {
   "cell_type": "code",
   "execution_count": 15,
   "id": "01e86953-df86-4277-bec1-33c7259fe62a",
   "metadata": {},
   "outputs": [
    {
     "name": "stdout",
     "output_type": "stream",
     "text": [
      "Collections found: 4 SAB Coast\n"
     ]
    }
   ],
   "source": [
    "# New locations\n",
    "# Differentiate the data by location using a ROI (Region of Interest) and time period. Then show the number of hits for each location.\n",
    "# print(f'Collections found: {Query_granules.concept_id(\"C3385049983-OB_CLOUD\").temporal(\"2025-04-28\",\"2025-04-30\").bounding_box(-84.47, 30.12, -78.170, 32.354).hits()} SAB Coast')\n",
    "print(f'Collections found: {Query_granules.concept_id(\"C3385049977-OB_CLOUD\").temporal(\"2025-04-28\",\"2025-04-30\").bounding_box(-84.47, 30.12, -78.170, 32.354).hits()} SAB Coast')\n"
   ]
  },
  {
   "cell_type": "code",
   "execution_count": 20,
   "id": "6b1a04a6-7f28-4999-818a-ff9f0a94ae06",
   "metadata": {},
   "outputs": [
    {
     "name": "stdout",
     "output_type": "stream",
     "text": [
      "Collections found: 4 SAB\n"
     ]
    }
   ],
   "source": [
    "# Differentiate the data by location using a ROI (Region of Interest) and time period. Then show the number of hits for each location.\n",
    "# print(f'Collections found: {Query_granules.concept_id(\"C3385049983-OB_CLOUD\").temporal(\"2025-04-28\",\"2025-04-30\").bounding_box(-84.47, 30.12, -78.170, 32.354).hits()} SAB')\n",
    "print(f'Collections found: {Query_granules.concept_id(\"C3385049977-OB_CLOUD\").temporal(\"2025-04-28\",\"2025-04-30\").bounding_box(-84.47, 30.12, -78.170, 32.354).hits()} SAB')\n"
   ]
  },
  {
   "cell_type": "code",
   "execution_count": 22,
   "id": "d0d3831e-f6c2-4744-87d7-450f20d2596a",
   "metadata": {},
   "outputs": [],
   "source": [
    "PACE_SAB = Query_granules.concept_id(\"C3385049977-OB_CLOUD\").temporal(\"2025-04-28\",\"2025-04-30\").bounding_box(-84.47, 30.12, -78.170, 32.354).get_all()\n"
   ]
  },
  {
   "cell_type": "code",
   "execution_count": 23,
   "id": "ae7d5cf5-724a-4487-af4d-6975bff84903",
   "metadata": {},
   "outputs": [],
   "source": [
    "SAB_dates = [granule['umm']['TemporalExtent']['RangeDateTime']['BeginningDateTime'] for granule in PACE_SAB]\n"
   ]
  },
  {
   "cell_type": "code",
   "execution_count": 24,
   "id": "6de7aec5-31c6-4147-8e6d-fa420020fce4",
   "metadata": {},
   "outputs": [],
   "source": [
    "# Now, we don't need to know the HHMMSS, so we are going to split the string at the T and take the first part of the string.\n",
    "SAB_dates_formatted = [date_str.split(\"T\")[0] for date_str in SAB_dates]\n"
   ]
  },
  {
   "cell_type": "code",
   "execution_count": 25,
   "id": "26d8617e-af3c-46c8-93f6-0e64c61f0f0f",
   "metadata": {},
   "outputs": [],
   "source": [
    "# Put all the lists created into a dictionary and then into a pandas dataframe.\n",
    "DatesDict = {'SAB': SAB_dates_formatted}\n",
    "PACE_pd = pd.DataFrame.from_dict(DatesDict, orient='index').transpose()"
   ]
  },
  {
   "cell_type": "code",
   "execution_count": 26,
   "id": "e2339434-730c-4415-b01b-fd4dd913a3ed",
   "metadata": {},
   "outputs": [],
   "source": [
    "# Generate output folders\n",
    "import os\n",
    "os.makedirs('output', exist_ok=True)\n",
    "\n",
    "folder_list = ['SAB'] #, 'Gibraltar', 'Australia', 'SantaCruz', 'SanFrancisco', 'GulfCalifornia', 'Trinidad', 'SChinaSea', 'Iberian', 'Azores', 'StJuanDeFuca', 'Celebes', 'SuluSea']\n",
    "for folder in folder_list:\n",
    "    os.makedirs(f'output/{folder}', exist_ok=True)"
   ]
  },
  {
   "cell_type": "code",
   "execution_count": 27,
   "id": "a25bba49-34a8-47d2-ac59-e87c73546e2a",
   "metadata": {},
   "outputs": [
    {
     "data": {
      "application/vnd.jupyter.widget-view+json": {
       "model_id": "7f492b661f3443a2bb50fe7fa6f7671a",
       "version_major": 2,
       "version_minor": 0
      },
      "text/plain": [
       "QUEUEING TASKS | :   0%|          | 0/4 [00:00<?, ?it/s]"
      ]
     },
     "metadata": {},
     "output_type": "display_data"
    },
    {
     "data": {
      "application/vnd.jupyter.widget-view+json": {
       "model_id": "59640657781747f7af4309f5c9c8b4c0",
       "version_major": 2,
       "version_minor": 0
      },
      "text/plain": [
       "PROCESSING TASKS | :   0%|          | 0/4 [00:00<?, ?it/s]"
      ]
     },
     "metadata": {},
     "output_type": "display_data"
    },
    {
     "data": {
      "application/vnd.jupyter.widget-view+json": {
       "model_id": "3c48038ff9b74c7ebf599208cd812b01",
       "version_major": 2,
       "version_minor": 0
      },
      "text/plain": [
       "COLLECTING RESULTS | :   0%|          | 0/4 [00:00<?, ?it/s]"
      ]
     },
     "metadata": {},
     "output_type": "display_data"
    }
   ],
   "source": [
    "# Now we are going to download the data\n",
    "SAB_files = Store(auth).get(PACE_SAB, local_path=os.getcwd()+'/output/SAB') # plz check the path for Mac vs. windows"
   ]
  },
  {
   "cell_type": "code",
   "execution_count": 1,
   "id": "38e552c0-c71a-472e-95d9-4aa57026018f",
   "metadata": {},
   "outputs": [
    {
     "name": "stdout",
     "output_type": "stream",
     "text": [
      "/Users/masud\n"
     ]
    }
   ],
   "source": [
    "!PWD\n"
   ]
  },
  {
   "cell_type": "code",
   "execution_count": null,
   "id": "e061d654-6260-4503-a2c0-6a2df9c1dbab",
   "metadata": {},
   "outputs": [],
   "source": []
  },
  {
   "cell_type": "code",
   "execution_count": null,
   "id": "a6b49ef2-70f9-4347-bcb6-b8950ac416b3",
   "metadata": {},
   "outputs": [],
   "source": []
  }
 ],
 "metadata": {
  "kernelspec": {
   "display_name": "Python 3 (ipykernel)",
   "language": "python",
   "name": "python3"
  },
  "language_info": {
   "codemirror_mode": {
    "name": "ipython",
    "version": 3
   },
   "file_extension": ".py",
   "mimetype": "text/x-python",
   "name": "python",
   "nbconvert_exporter": "python",
   "pygments_lexer": "ipython3",
   "version": "3.12.2"
  }
 },
 "nbformat": 4,
 "nbformat_minor": 5
}
